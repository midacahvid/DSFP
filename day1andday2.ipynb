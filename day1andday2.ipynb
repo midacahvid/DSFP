{
 "cells": [
  {
   "cell_type": "markdown",
   "id": "91b7b9e7-1f21-4179-a784-7015fa50b3ac",
   "metadata": {},
   "source": [
    "### DAY 1"
   ]
  },
  {
   "cell_type": "markdown",
   "id": "e1d33685-9cad-4c8b-bf29-706f822e88ad",
   "metadata": {},
   "source": [
    "## Introduction to Jupyter Notebook\n",
    "1.\tOpen a Jupyter Notebook and create a new Python notebook. Add markdown text to explain the purpose of the notebook.\n",
    "2.\tCreate a markdown cell with a title, a numbered list, and a bulleted list.\n",
    "3.\tWrite a code cell that prints \"Hello, World!\" and execute the cell.\n",
    "4.\tUse a markdown cell to add an image or a hyperlink to a website of your choice.\n",
    "5.\tCreate a notebook cell to perform addition and subtraction of two numbers.\n",
    "6.\tUse the help() function in a cell to get documentation for the print() function.\n",
    "7.\tSave your notebook and export it as a .html file.\n",
    "8.\tCreate a cell with multiple lines of comments explaining your code.\n",
    "9.\tUse magic commands (%time, %who) in a cell to measure execution time or list variables.\n",
    "10.\tCreate a simple table in a markdown cell to display your name, age, and profession.\n"
   ]
  },
  {
   "cell_type": "markdown",
   "id": "4f68e5c7-8474-4266-b508-aaf8a2b5b590",
   "metadata": {},
   "source": [
    "## Q1\n",
    "The purpose of this nootebook is to put into practice what we have been taught in class by answering the above exercises"
   ]
  },
  {
   "cell_type": "markdown",
   "id": "d86e5a49-4fc4-411d-ae3e-b131771ec68d",
   "metadata": {},
   "source": [
    "## Q2 \n",
    "# Bulleted list\n",
    "- one\n",
    "- two\n",
    "# Numbered list\n",
    "1. one\n",
    "2. two"
   ]
  },
  {
   "cell_type": "code",
   "execution_count": 2,
   "id": "19037707-d26c-4135-89fa-d7eceaf0581c",
   "metadata": {},
   "outputs": [
    {
     "name": "stdout",
     "output_type": "stream",
     "text": [
      "Hello, World!\n"
     ]
    }
   ],
   "source": [
    "#Q3\n",
    "print(\"Hello, World!\")"
   ]
  },
  {
   "cell_type": "markdown",
   "id": "580b69a9-7940-4985-9497-c0f9f56d39f2",
   "metadata": {},
   "source": [
    "#Q4\n",
    "Link to website (https://brighternurses.com.ng)"
   ]
  },
  {
   "cell_type": "code",
   "execution_count": 6,
   "id": "96377cbb-47d5-45dc-b90a-20fc1db5d4c5",
   "metadata": {},
   "outputs": [
    {
     "data": {
      "text/plain": [
       "1"
      ]
     },
     "execution_count": 6,
     "metadata": {},
     "output_type": "execute_result"
    }
   ],
   "source": [
    "#Q5\n",
    "3+ 4-6\n"
   ]
  },
  {
   "cell_type": "code",
   "execution_count": 7,
   "id": "82d0c009-995a-4953-917a-e672b1f8d4e1",
   "metadata": {},
   "outputs": [
    {
     "name": "stdout",
     "output_type": "stream",
     "text": [
      "Help on built-in function print in module builtins:\n",
      "\n",
      "print(*args, sep=' ', end='\\n', file=None, flush=False)\n",
      "    Prints the values to a stream, or to sys.stdout by default.\n",
      "\n",
      "    sep\n",
      "      string inserted between values, default a space.\n",
      "    end\n",
      "      string appended after the last value, default a newline.\n",
      "    file\n",
      "      a file-like object (stream); defaults to the current sys.stdout.\n",
      "    flush\n",
      "      whether to forcibly flush the stream.\n",
      "\n"
     ]
    }
   ],
   "source": [
    "#Q6\n",
    "help(print)"
   ]
  },
  {
   "cell_type": "code",
   "execution_count": 12,
   "id": "ea01cc78-7c7f-4176-a14b-5e6b1d615519",
   "metadata": {},
   "outputs": [
    {
     "data": {
      "text/plain": [
       "' To create a multiline comment you start your code with three quotes. after that you add your text and close the with three quotes '"
      ]
     },
     "execution_count": 12,
     "metadata": {},
     "output_type": "execute_result"
    }
   ],
   "source": [
    "#Q8\n",
    "''' To create a multiline comment you start your code with three quotes. after that you add your text and close the with three quotes '''"
   ]
  },
  {
   "cell_type": "code",
   "execution_count": 16,
   "id": "123775fb-ad33-4456-a5e4-df64b5b0e298",
   "metadata": {},
   "outputs": [
    {
     "name": "stdout",
     "output_type": "stream",
     "text": [
      "CPU times: total: 0 ns\n",
      "Wall time: 0 ns\n"
     ]
    }
   ],
   "source": [
    "#Q9\n",
    "%time"
   ]
  },
  {
   "cell_type": "code",
   "execution_count": 17,
   "id": "8bdfb57c-162f-463d-969b-39e96fa32103",
   "metadata": {},
   "outputs": [
    {
     "name": "stdout",
     "output_type": "stream",
     "text": [
      "Interactive namespace is empty.\n"
     ]
    }
   ],
   "source": [
    "#Q9\n",
    "%who"
   ]
  },
  {
   "cell_type": "markdown",
   "id": "4c21f974-0641-45cd-8cfd-2a288a7e76a0",
   "metadata": {},
   "source": [
    "# Q10\n",
    "| Name     | Age | Profession   |\n",
    "|----------|-----|--------------|\n",
    "| John Doe | 25  | Data Analyst |"
   ]
  },
  {
   "cell_type": "markdown",
   "id": "3a2394cf-016d-47d1-8fb5-29cbf7a761cb",
   "metadata": {},
   "source": [
    "## Data Types in Python\r\n",
    "1.\tIdentify the data type of the following values in Python:- o\t4- \n",
    "o\t3.- \r\n",
    "o\t\"Pyth- \"\r\n",
    "o\t[1, 2- 3]\r\n",
    "o\t{ \"name\": \"John\", \"age\": 30 }\r\n",
    "2.\tConvert an integer (e.g., 42) to a float and a string.\r\n",
    "3.\tCreate a list of your five favorite fruits and print its data type.\r\n",
    "4.\tWrite a program to check if a variable is of type str.\r\n",
    "5.\tCreate a tuple with three different data types and access the second element.\r\n",
    "6.\tCreate a dictionary with three key-value pairs and retrieve the value of a specific key.\r\n",
    "7.\tUse the type() function to verify the data type of variables.\r\n",
    "8.\tWrite a script to perform typecasting of a float to an integer and observe the changes.\r\n",
    "9.\tCreate a program that checks whether an input is a number or a string.\r\n",
    "10.\tWrite a program to calculate the length of a list, tuple, and dictionary.\r\n"
   ]
  },
  {
   "cell_type": "code",
   "execution_count": 18,
   "id": "798124db-27c7-44eb-ab93-886f734e27db",
   "metadata": {},
   "outputs": [
    {
     "name": "stdout",
     "output_type": "stream",
     "text": [
      "<class 'int'>\n",
      "<class 'float'>\n",
      "<class 'str'>\n",
      "<class 'list'>\n",
      "<class 'dict'>\n"
     ]
    }
   ],
   "source": [
    "#Q1\n",
    "print(type(42))\n",
    "print(type(3.14))\n",
    "print(type('Python'))\n",
    "print(type([1, 2, 3]))\n",
    "print(type({ \"name\": \"John\", \"age\": 30 }))"
   ]
  },
  {
   "cell_type": "code",
   "execution_count": 19,
   "id": "52bfd645-d607-4c73-b16f-a17467b48c4b",
   "metadata": {},
   "outputs": [
    {
     "data": {
      "text/plain": [
       "42.0"
      ]
     },
     "execution_count": 19,
     "metadata": {},
     "output_type": "execute_result"
    }
   ],
   "source": [
    "#Q2\n",
    "float(42)"
   ]
  },
  {
   "cell_type": "code",
   "execution_count": 20,
   "id": "1cc56e12-8ee2-4114-9664-2e45d1ed2db6",
   "metadata": {},
   "outputs": [
    {
     "data": {
      "text/plain": [
       "'42'"
      ]
     },
     "execution_count": 20,
     "metadata": {},
     "output_type": "execute_result"
    }
   ],
   "source": [
    "#Q2\n",
    "str(42)"
   ]
  },
  {
   "cell_type": "code",
   "execution_count": 21,
   "id": "6bd107f6-1c57-4dc9-9b3f-40046f82d528",
   "metadata": {},
   "outputs": [
    {
     "data": {
      "text/plain": [
       "list"
      ]
     },
     "execution_count": 21,
     "metadata": {},
     "output_type": "execute_result"
    }
   ],
   "source": [
    "#Q3\n",
    "favorite_fruits =  ['apple', 'mango', 'orange']\n",
    "type(favorite_fruits)"
   ]
  },
  {
   "cell_type": "code",
   "execution_count": 22,
   "id": "ce53cdd7-420d-4e1a-8649-3deab71c9677",
   "metadata": {},
   "outputs": [
    {
     "data": {
      "text/plain": [
       "True"
      ]
     },
     "execution_count": 22,
     "metadata": {},
     "output_type": "execute_result"
    }
   ],
   "source": [
    "#Q4\n",
    "a = \"micah\"\n",
    "type(a) == str"
   ]
  },
  {
   "cell_type": "code",
   "execution_count": 23,
   "id": "d7da55f4-2ce8-4f47-b3bf-c82feff645ac",
   "metadata": {},
   "outputs": [
    {
     "data": {
      "text/plain": [
       "2"
      ]
     },
     "execution_count": 23,
     "metadata": {},
     "output_type": "execute_result"
    }
   ],
   "source": [
    "#Q5\n",
    "my_tupple = ('micah', 2, 3.4)\n",
    "my_tupple[1]"
   ]
  },
  {
   "cell_type": "code",
   "execution_count": 24,
   "id": "af17e6ae-baff-43cf-a434-b553d3ee7641",
   "metadata": {},
   "outputs": [
    {
     "data": {
      "text/plain": [
       "'micah david'"
      ]
     },
     "execution_count": 24,
     "metadata": {},
     "output_type": "execute_result"
    }
   ],
   "source": [
    "#Q6\n",
    "my_dictionary = {\n",
    "    'name': 'micah david',\n",
    "    'age':23,\n",
    "    'height': 12.4\n",
    "}\n",
    "\n",
    "my_dictionary['name']"
   ]
  },
  {
   "cell_type": "code",
   "execution_count": 25,
   "id": "52635146-8d52-43a5-99bb-46b0a359e7fe",
   "metadata": {},
   "outputs": [
    {
     "name": "stdout",
     "output_type": "stream",
     "text": [
      "<class 'dict'>\n",
      "<class 'tuple'>\n",
      "<class 'list'>\n"
     ]
    }
   ],
   "source": [
    "#Q7\n",
    "print(type(my_dictionary))\n",
    "print(type(my_tupple))\n",
    "print(type(favorite_fruits))"
   ]
  },
  {
   "cell_type": "code",
   "execution_count": 26,
   "id": "226a81ea-f931-4159-8a5b-0b69b756ae78",
   "metadata": {},
   "outputs": [
    {
     "data": {
      "text/plain": [
       "5"
      ]
     },
     "execution_count": 26,
     "metadata": {},
     "output_type": "execute_result"
    }
   ],
   "source": [
    "#Q8\n",
    "height =  5.2\n",
    "int(height)"
   ]
  },
  {
   "cell_type": "code",
   "execution_count": 29,
   "id": "836e44e5-c385-4fb9-9ee3-ec7f91a0d34b",
   "metadata": {},
   "outputs": [
    {
     "name": "stdout",
     "output_type": "stream",
     "text": [
      "string\n"
     ]
    }
   ],
   "source": [
    "#Q9\n",
    "b = 'Heloo'\n",
    "if type(b) == str:\n",
    "    print('string')\n",
    "elif type(b) == int:\n",
    "    print('int')\n",
    "else:\n",
    "    print('not a string or integer')"
   ]
  },
  {
   "cell_type": "code",
   "execution_count": 30,
   "id": "a067832c-d156-40df-85f9-e50f398e8665",
   "metadata": {},
   "outputs": [
    {
     "name": "stdout",
     "output_type": "stream",
     "text": [
      "3\n",
      "3\n",
      "3\n"
     ]
    }
   ],
   "source": [
    "#Q10\n",
    "print(len(my_dictionary))\n",
    "print(len(my_tupple))\n",
    "print(len(favorite_fruits))"
   ]
  },
  {
   "cell_type": "markdown",
   "id": "b2f5ee5e-b3fa-4806-8abe-5a620a79c1e5",
   "metadata": {},
   "source": [
    "## Expressions and Variables\r\n",
    "1.\tAssign values to three variables (x, y, z) and calculate their sum.\r\n",
    "2.\tWrite a program to swap the values of two variables.\r\n",
    "3.\tAssign a string to a variable and concatenate it with another string.\r\n",
    "4.\tUse compound assignment operators (+=, *=, etc.) with variables to perform operations.\r\n",
    "5.\tWrite an expression that calculates the area of a circle given the radius stored in a variable.\r\n",
    "6.\tUse variables to store values for a quadratic equation and compute its roots.\r\n",
    "7.\tAssign a value to a variable and print its memory location using the id() function.\r\n",
    "8.\tCreate a variable to store a person's name and use it in a print statement with a greeting.\r\n",
    "9.\tUse an expression with both arithmetic and logical operators, and assign the result to a \n",
    "10.\tWrite a program to solve (a + b)^2 using variables a and bvariable.\r\n"
   ]
  },
  {
   "cell_type": "code",
   "execution_count": 32,
   "id": "9fd2b6bc-bdd8-468e-9a46-8512d038133d",
   "metadata": {},
   "outputs": [
    {
     "data": {
      "text/plain": [
       "6"
      ]
     },
     "execution_count": 32,
     "metadata": {},
     "output_type": "execute_result"
    }
   ],
   "source": [
    "#Q1\n",
    "x =  3\n",
    "y = 5\n",
    "z = -2\n",
    "\n",
    "x+y+z"
   ]
  },
  {
   "cell_type": "code",
   "execution_count": 33,
   "id": "0162f80f-2067-417e-b329-51a004a9bb0e",
   "metadata": {},
   "outputs": [
    {
     "name": "stdout",
     "output_type": "stream",
     "text": [
      "5 5\n"
     ]
    }
   ],
   "source": [
    "#Q2\n",
    "x = y\n",
    "z = x\n",
    "\n",
    "print(x, z)"
   ]
  },
  {
   "cell_type": "code",
   "execution_count": 34,
   "id": "0a902140-56e4-4f5d-ba4d-b42d370e7642",
   "metadata": {},
   "outputs": [
    {
     "name": "stdout",
     "output_type": "stream",
     "text": [
      "hello world\n"
     ]
    }
   ],
   "source": [
    "#Q3\n",
    "string1 =  'hello'\n",
    "string2 = 'world'\n",
    "concateString = string1 + ' ' +string2\n",
    "print(concateString)"
   ]
  },
  {
   "cell_type": "code",
   "execution_count": 36,
   "id": "234769e2-68ff-493a-a1b1-96c1d95dab42",
   "metadata": {},
   "outputs": [
    {
     "data": {
      "text/plain": [
       "(15, 80)"
      ]
     },
     "execution_count": 36,
     "metadata": {},
     "output_type": "execute_result"
    }
   ],
   "source": [
    "#Q4\n",
    "x += 5\n",
    "y*= 4\n",
    "\n",
    "x, y"
   ]
  },
  {
   "cell_type": "code",
   "execution_count": 37,
   "id": "bfeb810a-f225-47ff-a9ee-4a17172f1771",
   "metadata": {},
   "outputs": [
    {
     "data": {
      "text/plain": [
       "28.287"
      ]
     },
     "execution_count": 37,
     "metadata": {},
     "output_type": "execute_result"
    }
   ],
   "source": [
    "#Q5\n",
    "radius = 3\n",
    "area = 3.143*radius**2\n",
    "area"
   ]
  },
  {
   "cell_type": "code",
   "execution_count": 38,
   "id": "0c208dd1-6c36-4f4c-89c1-8a2538b5d89a",
   "metadata": {},
   "outputs": [
    {
     "data": {
      "text/plain": [
       "2521418945504"
      ]
     },
     "execution_count": 38,
     "metadata": {},
     "output_type": "execute_result"
    }
   ],
   "source": [
    "#Q7\n",
    "today = 'sunday'\n",
    "id(today)"
   ]
  },
  {
   "cell_type": "code",
   "execution_count": 40,
   "id": "7df3842f-d360-435f-9d02-9281ebb95116",
   "metadata": {},
   "outputs": [
    {
     "name": "stdout",
     "output_type": "stream",
     "text": [
      "Good morining David\n"
     ]
    }
   ],
   "source": [
    "#Q8 \n",
    "name_var = 'David'\n",
    "print('Good morining '+name_var)"
   ]
  },
  {
   "cell_type": "code",
   "execution_count": 41,
   "id": "33a082b8-6ed6-4dd8-b787-09158a804899",
   "metadata": {},
   "outputs": [
    {
     "data": {
      "text/plain": [
       "False"
      ]
     },
     "execution_count": 41,
     "metadata": {},
     "output_type": "execute_result"
    }
   ],
   "source": [
    "#Q9\n",
    "a = 10\n",
    "b = 5\n",
    "c = 15\n",
    "\n",
    "result = (a + b > c) and (c % b == 0)\n",
    "result"
   ]
  },
  {
   "cell_type": "code",
   "execution_count": 42,
   "id": "11d49cbd-60af-401c-859a-1e623c7445ec",
   "metadata": {},
   "outputs": [
    {
     "data": {
      "text/plain": [
       "33"
      ]
     },
     "execution_count": 42,
     "metadata": {},
     "output_type": "execute_result"
    }
   ],
   "source": [
    "#Q10\n",
    "a = 12\n",
    "b = 23\n",
    "(a+b)^2"
   ]
  },
  {
   "cell_type": "markdown",
   "id": "0a9289d0-2e01-4416-b0d5-445cd2018b31",
   "metadata": {},
   "source": [
    "## DAY 2"
   ]
  },
  {
   "cell_type": "markdown",
   "id": "e965b540-fe28-4489-a3c8-c90a275dc56d",
   "metadata": {},
   "source": [
    "# Exercise 1: Strings\n",
    "1.\tConcatenate Strings: Write a program to concatenate \"Hello\" and \"Python\" with a space between them.\n",
    "2.\tFind String Length: Calculate and print the length of \"Learn to code in Python!\".\n",
    "3.\tExtract Substring: From the string \"Python Programming\", extract the substring \"Program\".\n",
    "4.\tChange Case: Convert \"Python Rocks!\" to uppercase, lowercase, and title case.\n",
    "5.\tReplace Substring: Replace \"bad\" with \"good\" in the string \"Python is not bad\".\n",
    "6.\tCheck Substring: Check if \"code\" exists in \"Coding is fun with Python\".\n",
    "7.\tReverse String: Reverse \"Python\" and print it.\n",
    "8.\tSplit and Join: Split \"Learn Python the easy way\" into a list of words, then join it back into a single string separated by hyphens (-).\n",
    "9.\tCount Occurrences: Count how many times the letter 'a' appears in \"banana apple avocado\".\n",
    "10.\tString Formatting: Use f-strings to format and print \"I scored 95 in Python, which is awesome!\"."
   ]
  },
  {
   "cell_type": "code",
   "execution_count": 43,
   "id": "3cbd76c9-7056-414c-a95b-4349b5531d01",
   "metadata": {},
   "outputs": [
    {
     "name": "stdout",
     "output_type": "stream",
     "text": [
      "Hello Python\n"
     ]
    }
   ],
   "source": [
    "#Q1\n",
    "string1 =  'Hello'\n",
    "string2 = 'Python'\n",
    "\n",
    "concateString =  string1+\" \"+ string2\n",
    "print(concateString)"
   ]
  },
  {
   "cell_type": "code",
   "execution_count": 44,
   "id": "48bf5842-05b5-4190-bfa3-979c495a891f",
   "metadata": {},
   "outputs": [
    {
     "data": {
      "text/plain": [
       "24"
      ]
     },
     "execution_count": 44,
     "metadata": {},
     "output_type": "execute_result"
    }
   ],
   "source": [
    "#Q2\n",
    "stringName  = \"Learn to code in Python!\"\n",
    "len(stringName)"
   ]
  },
  {
   "cell_type": "code",
   "execution_count": 45,
   "id": "c0f187f3-0d99-49b2-9565-999c5c2dcd80",
   "metadata": {},
   "outputs": [
    {
     "data": {
      "text/plain": [
       "'Program'"
      ]
     },
     "execution_count": 45,
     "metadata": {},
     "output_type": "execute_result"
    }
   ],
   "source": [
    "#Q3\n",
    "substring = \"Python Programming\"\n",
    "\n",
    "substring[7:14]"
   ]
  },
  {
   "cell_type": "code",
   "execution_count": 46,
   "id": "3837592d-3a6e-4436-8d85-7970e56feaca",
   "metadata": {},
   "outputs": [
    {
     "data": {
      "text/plain": [
       "'Python Rocks!'"
      ]
     },
     "execution_count": 46,
     "metadata": {},
     "output_type": "execute_result"
    }
   ],
   "source": [
    "#Q4\n",
    "changeCase = \"Python rocks!\"\n",
    "changeCase.lower()\n",
    "changeCase.upper()\n",
    "changeCase.title()"
   ]
  },
  {
   "cell_type": "code",
   "execution_count": 47,
   "id": "1b5ddb76-05d2-40dd-9f91-001e5e538c96",
   "metadata": {},
   "outputs": [
    {
     "name": "stdout",
     "output_type": "stream",
     "text": [
      "Python is not good\n"
     ]
    }
   ],
   "source": [
    "#Q5\n",
    "repString =  \"Python is not bad\"\n",
    "replaceStr = repString.replace(\"bad\", 'good')\n",
    "print(replaceStr)"
   ]
  },
  {
   "cell_type": "code",
   "execution_count": 48,
   "id": "da18f561-6906-4375-8e84-50d93031467f",
   "metadata": {},
   "outputs": [
    {
     "name": "stdout",
     "output_type": "stream",
     "text": [
      "False\n"
     ]
    }
   ],
   "source": [
    "#Q6\n",
    "checkStr = \"Coding is fun with Python\"\n",
    "result =  'Code' in checkStr\n",
    "print(result)"
   ]
  },
  {
   "cell_type": "code",
   "execution_count": 49,
   "id": "e2fed6c8-3e8f-4227-90f8-fae142a133ae",
   "metadata": {},
   "outputs": [
    {
     "name": "stdout",
     "output_type": "stream",
     "text": [
      "nohtyP\n"
     ]
    }
   ],
   "source": [
    "#Q7\n",
    "reverseStr =  \"Python\"\n",
    "re = \"\".join(reversed(reverseStr))\n",
    "print(re)"
   ]
  },
  {
   "cell_type": "code",
   "execution_count": 50,
   "id": "62d76b49-bfa7-4ac5-b736-ce4b92ebf4fe",
   "metadata": {},
   "outputs": [
    {
     "data": {
      "text/plain": [
       "'Learn-Python-the-easy-way'"
      ]
     },
     "execution_count": 50,
     "metadata": {},
     "output_type": "execute_result"
    }
   ],
   "source": [
    "#Q8\n",
    "splitStr =  \"Learn Python the easy way\"\n",
    "splitedStr = splitStr.split()\n",
    "\"-\".join(splitedStr)"
   ]
  },
  {
   "cell_type": "code",
   "execution_count": 53,
   "id": "4ad2652c-d217-4eb7-bade-609e902ce487",
   "metadata": {},
   "outputs": [
    {
     "data": {
      "text/plain": [
       "3"
      ]
     },
     "execution_count": 53,
     "metadata": {},
     "output_type": "execute_result"
    }
   ],
   "source": [
    "#Q9\n",
    "countStr =  'Hi everyone'\n",
    "myCounter =  countStr.count(\"e\")\n",
    "myCounter"
   ]
  },
  {
   "cell_type": "code",
   "execution_count": 55,
   "id": "242181f6-8d88-4e23-abf4-1f999464577e",
   "metadata": {},
   "outputs": [
    {
     "data": {
      "text/plain": [
       "'I 95 in Python course'"
      ]
     },
     "execution_count": 55,
     "metadata": {},
     "output_type": "execute_result"
    }
   ],
   "source": [
    "#Q10\n",
    "score = 95\n",
    "subject = \"Python\"\n",
    "message = f\"I {score} in {subject} course\"\n",
    "message"
   ]
  },
  {
   "cell_type": "markdown",
   "id": "433644ce-373f-4b97-ba1c-999faee663ba",
   "metadata": {},
   "source": [
    "## Exercise 2: Lists/Tuples\n",
    "1.\tCreate and Print List: Create a list of five fruits: [\"apple\", \"banana\", \"cherry\", \"date\", \"elderberry\"]. Print the first and last items.\n",
    "2.\tModify List: Add \"fig\" to the list above, remove \"cherry\", and replace \"banana\" with \"blueberry\".\n",
    "3.\tSort and Reverse List: Sort the list in ascending order, then reverse it.\n",
    "4.\tSlice List: From the list [\"Python\", \"Java\", \"C++\", \"Ruby\", \"Go\"], extract the first three languages.\n",
    "5.\tSum of List: Create a list of numbers [10, 20, 30, 40, 50] and calculate their sum.\n",
    "6.\tTuple Creation: Create a tuple of five numbers and print the maximum and minimum values.\n",
    "7.\tConvert List to Tuple: Convert the list [\"red\", \"green\", \"blue\"] into a tuple.\n",
    "8.\tUnpack Tuple: Unpack the tuple (1, 2, 3) into three variables and print them.\n",
    "9.\tList Comprehension: Create a new list with the squares of numbers from 1 to 10.\n",
    "10.\tFind Index: Find the index of \"C++\" in the list [\"Python\", \"Java\", \"C++\", \"Ruby\", \"Go\"].\n"
   ]
  },
  {
   "cell_type": "code",
   "execution_count": 69,
   "id": "413fa3c5-d061-4ec5-9c9a-212e0158af02",
   "metadata": {},
   "outputs": [
    {
     "name": "stdout",
     "output_type": "stream",
     "text": [
      "firts element: apple ,  last element: elderberry\n"
     ]
    }
   ],
   "source": [
    "#Q1\n",
    "fruits = [\"apple\", \"banana\", \"cherry\", \"date\", \"elderberry\"]\n",
    "print('firts element: ' +fruits[0], ',  last element: '+fruits[-1])"
   ]
  },
  {
   "cell_type": "code",
   "execution_count": 70,
   "id": "3d5c70b6-71bc-4c91-ac57-1c2c02c9c0d7",
   "metadata": {},
   "outputs": [],
   "source": [
    "#Q2\n",
    "#Adding fig to the list fruits\n",
    "fruits.append('fig')\n",
    "#removing item \n",
    "fruits.remove('cherry')\n"
   ]
  },
  {
   "cell_type": "code",
   "execution_count": 72,
   "id": "35b6b956-d80b-49dd-940e-328f438f79b2",
   "metadata": {},
   "outputs": [
    {
     "data": {
      "text/plain": [
       "['apple', 'blueberry', 'date', 'elderberry', 'fig']"
      ]
     },
     "execution_count": 72,
     "metadata": {},
     "output_type": "execute_result"
    }
   ],
   "source": [
    "#replacig an item\n",
    "fruits[1] = \"blueberry\"\n",
    "fruits"
   ]
  },
  {
   "cell_type": "code",
   "execution_count": 76,
   "id": "2471ac2b-4f08-4b4c-a4ab-88b7fd289d92",
   "metadata": {},
   "outputs": [
    {
     "name": "stdout",
     "output_type": "stream",
     "text": [
      "Sorted in ascending order: [1, 2, 5, 7, 9]\n",
      "Reversed list: [9, 7, 5, 2, 1]\n"
     ]
    }
   ],
   "source": [
    "#q3\n",
    "numbers = [5, 2, 9, 1, 7]\n",
    "\n",
    "# Sort the list in ascending order\n",
    "numbers.sort()\n",
    "print(\"Sorted in ascending order:\", numbers)\n",
    "\n",
    "# Reverse the sorted list\n",
    "numbers.reverse()\n",
    "print(\"Reversed list:\", numbers)"
   ]
  },
  {
   "cell_type": "code",
   "execution_count": 81,
   "id": "f10127cc-d9d1-4d48-81d2-5103bc038c49",
   "metadata": {},
   "outputs": [
    {
     "data": {
      "text/plain": [
       "['Python', 'Java', 'C++']"
      ]
     },
     "execution_count": 81,
     "metadata": {},
     "output_type": "execute_result"
    }
   ],
   "source": [
    "#q4\n",
    "languages = [\"Python\", \"Java\", \"C++\", \"Ruby\", \"Go\"]\n",
    "languages[0:3]"
   ]
  },
  {
   "cell_type": "code",
   "execution_count": 82,
   "id": "51ecde37-c728-44b2-8b17-e2e8551dda9d",
   "metadata": {},
   "outputs": [
    {
     "data": {
      "text/plain": [
       "150"
      ]
     },
     "execution_count": 82,
     "metadata": {},
     "output_type": "execute_result"
    }
   ],
   "source": [
    "#q5\n",
    "list_num =[10, 20, 30, 40, 50]\n",
    "sum(list_num)"
   ]
  },
  {
   "cell_type": "code",
   "execution_count": 85,
   "id": "7eae8f3b-d5d3-4970-bf95-2b8deb3284f6",
   "metadata": {},
   "outputs": [
    {
     "name": "stdout",
     "output_type": "stream",
     "text": [
      "10 50\n"
     ]
    }
   ],
   "source": [
    "#q6\n",
    "d_tupple = (10, 20, 30, 40, 50)\n",
    "print(min(d_tupple), max(d_tupple))"
   ]
  },
  {
   "cell_type": "code",
   "execution_count": 88,
   "id": "f096e4d6-b1ba-4f11-ac81-11698f6c9a13",
   "metadata": {},
   "outputs": [
    {
     "data": {
      "text/plain": [
       "('red', 'green', 'blue')"
      ]
     },
     "execution_count": 88,
     "metadata": {},
     "output_type": "execute_result"
    }
   ],
   "source": [
    "#q7\n",
    "l_fruits = [\"red\", \"green\", \"blue\"]\n",
    "tuple(l_fruits)"
   ]
  },
  {
   "cell_type": "code",
   "execution_count": 90,
   "id": "3ea6f55f-5b6d-4076-8705-00ed466a4e23",
   "metadata": {},
   "outputs": [
    {
     "name": "stdout",
     "output_type": "stream",
     "text": [
      "1 2 3\n"
     ]
    }
   ],
   "source": [
    "#q8\n",
    "u_tuple = (1, 2, 3)\n",
    "m, n, o = u_tuple\n",
    "print(m, n, o)"
   ]
  },
  {
   "cell_type": "code",
   "execution_count": 96,
   "id": "a7e51d7d-84e0-42d4-90b3-db091aefe87b",
   "metadata": {},
   "outputs": [
    {
     "name": "stdout",
     "output_type": "stream",
     "text": [
      "[1, 4, 9, 16, 25, 36, 49, 64, 81, 100]\n"
     ]
    }
   ],
   "source": [
    "#q9\n",
    "#first create and empty list\n",
    "create_list = []\n",
    "#use a for loop to interate 10 times\n",
    "for num in range(1, 11):\n",
    "    create_list.append(num**2)\n",
    "print(create_list)"
   ]
  },
  {
   "cell_type": "code",
   "execution_count": 97,
   "id": "1aa8549c-ee3f-4048-b894-e23cac608f54",
   "metadata": {},
   "outputs": [
    {
     "data": {
      "text/plain": [
       "2"
      ]
     },
     "execution_count": 97,
     "metadata": {},
     "output_type": "execute_result"
    }
   ],
   "source": [
    "#q10\n",
    "languages.index('C++')"
   ]
  },
  {
   "cell_type": "markdown",
   "id": "20fa06ff-f1f1-48e2-9ef8-0f3eedaa79c6",
   "metadata": {},
   "source": [
    "## Exercise 3: Dictionaries\n",
    "1.\tCreate Dictionary: Create a dictionary with three key-value pairs: {\"name\": \"Alice\", \"age\": 25, \"city\": \"New York\"}.\n",
    "2.\tAccess Value: Access and print the value of \"city\" in the dictionary above.\n",
    "3.\tUpdate Value: Update the \"age\" to 30 and print the dictionary.\n",
    "4.\tAdd Key-Value Pair: Add a new key \"country\" with the value \"USA\" to the dictionary.\n",
    "5.\tDelete Key: Remove the \"city\" key from the dictionary and print the result.\n",
    "6.\tCheck Key Existence: Check if the key \"name\" exists in the dictionary.\n",
    "7.\tIterate Dictionary: Iterate over the dictionary and print each key and its value.\n",
    "8.\tMerge Dictionaries: Merge {\"x\": 1, \"y\": 2} with {\"y\": 3, \"z\": 4} and print the result.\n",
    "9.\tDictionary Keys and Values: Print all the keys and values from the dictionary {\"Python\": 1991, \"Java\": 1995, \"C++\": 1985}.\n",
    "10.\tDictionary Comprehension: Create a dictionary where keys are numbers from 1 to 5 and values are their squares.\n"
   ]
  },
  {
   "cell_type": "code",
   "execution_count": 98,
   "id": "7ba74ccf-5f60-4cbc-91a4-71e35957f3bd",
   "metadata": {},
   "outputs": [],
   "source": [
    "#Q1\n",
    "person = {\"name\": \"Alice\", \"age\": 25, \"city\": \"New York\"}\n"
   ]
  },
  {
   "cell_type": "code",
   "execution_count": 99,
   "id": "9b33d386-800c-4746-9737-50fece547de0",
   "metadata": {},
   "outputs": [
    {
     "name": "stdout",
     "output_type": "stream",
     "text": [
      "New York\n"
     ]
    }
   ],
   "source": [
    "#q2\n",
    "print(person['city'])"
   ]
  },
  {
   "cell_type": "code",
   "execution_count": 100,
   "id": "1dd70bac-b079-47b6-910c-e4742baa62c1",
   "metadata": {},
   "outputs": [
    {
     "name": "stdout",
     "output_type": "stream",
     "text": [
      "{'name': 'Alice', 'age': 30, 'city': 'New York'}\n"
     ]
    }
   ],
   "source": [
    "#q3\n",
    "person['age'] = 30\n",
    "print(person)"
   ]
  },
  {
   "cell_type": "code",
   "execution_count": 101,
   "id": "056d7d64-1abc-4997-b82f-80c708cb0fd2",
   "metadata": {},
   "outputs": [],
   "source": [
    "#q4\n",
    "person['country']= 'USA'"
   ]
  },
  {
   "cell_type": "code",
   "execution_count": 104,
   "id": "eaf1a17f-8c8a-430b-b89b-d629b9aac9e4",
   "metadata": {},
   "outputs": [],
   "source": [
    "#Q5\n",
    "del(person['city'])"
   ]
  },
  {
   "cell_type": "code",
   "execution_count": 109,
   "id": "52b1b802-1b8e-4d99-ad77-4180fe033f9e",
   "metadata": {},
   "outputs": [
    {
     "data": {
      "text/plain": [
       "False"
      ]
     },
     "execution_count": 109,
     "metadata": {},
     "output_type": "execute_result"
    }
   ],
   "source": [
    "#q6\n",
    "'name' in person.keys()"
   ]
  },
  {
   "cell_type": "code",
   "execution_count": 116,
   "id": "6ca6b015-59f0-40b1-9bdc-48738639c8ed",
   "metadata": {},
   "outputs": [
    {
     "name": "stdout",
     "output_type": "stream",
     "text": [
      "name :  Alice\n",
      "age :  30\n",
      "country :  USA\n"
     ]
    }
   ],
   "source": [
    "#q7\n",
    "for key,value in person.items():\n",
    "    print(key, ': ', value)"
   ]
  },
  {
   "cell_type": "code",
   "execution_count": 117,
   "id": "d6a332be-5920-4d71-af89-4afa7e41f9ac",
   "metadata": {},
   "outputs": [
    {
     "name": "stdout",
     "output_type": "stream",
     "text": [
      "{'x': 1, 'y': 3, 'z': 4}\n"
     ]
    }
   ],
   "source": [
    "#q8\n",
    "dict1 = {\"x\": 1, \"y\": 2}\n",
    "dict2 = {\"y\": 3, \"z\": 4}\n",
    "merge = dict1 | dict2\n",
    "print(merge)"
   ]
  },
  {
   "cell_type": "code",
   "execution_count": 118,
   "id": "6fcdf279-b4e5-4769-9c7e-38436eb0003c",
   "metadata": {},
   "outputs": [
    {
     "name": "stdout",
     "output_type": "stream",
     "text": [
      "Python :  1991\n",
      "Java :  1995\n",
      "C++ :  1985\n"
     ]
    }
   ],
   "source": [
    "#q9\n",
    "mydict = {\"Python\": 1991, \"Java\": 1995, \"C++\": 1985}\n",
    "for key, value in mydict.items():\n",
    "    print(key, \": \", value)"
   ]
  },
  {
   "cell_type": "code",
   "execution_count": 120,
   "id": "ca0a4e9c-490c-4730-9985-0128d92b10c8",
   "metadata": {},
   "outputs": [
    {
     "name": "stdout",
     "output_type": "stream",
     "text": [
      "{1: 1, 2: 4, 3: 9, 4: 16, 5: 25}\n"
     ]
    }
   ],
   "source": [
    "#q10\n",
    "creat_dict = {}\n",
    "for key in range(1, 6):\n",
    "    creat_dict[key] = key**2\n",
    "print(creat_dict)"
   ]
  },
  {
   "cell_type": "markdown",
   "id": "8f35f3b8-d395-42cb-95d6-249943d64bf7",
   "metadata": {},
   "source": [
    "## Exercise 4: Sets\n",
    "1.\tCreate and Print Set: Create a set of three colors: {\"red\", \"green\", \"blue\"}. Print the set.\n",
    "2.\tAdd Element: Add \"yellow\" to the set and print the result.\n",
    "3.\tRemove Element: Remove \"green\" from the set.\n",
    "4.\tCheck Membership: Check if \"blue\" exists in the set.\n",
    "5.\tUnion of Sets: Find the union of {1, 2, 3} and {3, 4, 5}.\n",
    "6.\tIntersection of Sets: Find the intersection of {1, 2, 3} and {3, 4, 5}.\n",
    "7.\tDifference of Sets: Find the difference between {1, 2, 3} and {3, 4, 5}.\n",
    "8.\tSet Length: Find the length of the set {1, 2, 3, 4, 5}.\n",
    "9.\tSet Operations: Check if {1, 2} is a subset of {1, 2, 3, 4} and {1, 2, 3, 4} is a superset of {1, 2}.\n",
    "10.\tConvert List to Set: Convert the list [1, 2, 2, 3, 4, 4] into a set to remove duplicates and print the set.\n"
   ]
  },
  {
   "cell_type": "code",
   "execution_count": 121,
   "id": "a0b62aa1-05af-4e92-bb36-cac159908702",
   "metadata": {},
   "outputs": [
    {
     "name": "stdout",
     "output_type": "stream",
     "text": [
      "{'blue', 'red', 'green'}\n"
     ]
    }
   ],
   "source": [
    "#q1\n",
    "colors = {\"red\", \"green\", \"blue\"}\n",
    "print(colors)"
   ]
  },
  {
   "cell_type": "code",
   "execution_count": 122,
   "id": "6c176431-433b-41f7-a61c-6405a1010cca",
   "metadata": {},
   "outputs": [
    {
     "name": "stdout",
     "output_type": "stream",
     "text": [
      "{'blue', 'red', 'yellow', 'green'}\n"
     ]
    }
   ],
   "source": [
    "#q2\n",
    "colors.add('yellow')\n",
    "print(colors)"
   ]
  },
  {
   "cell_type": "code",
   "execution_count": 123,
   "id": "ea8861a7-ed84-4f96-a7a3-323e4d7ca033",
   "metadata": {},
   "outputs": [],
   "source": [
    "#q3\n",
    "colors.remove('green')"
   ]
  },
  {
   "cell_type": "code",
   "execution_count": 124,
   "id": "c3af5949-38f5-4ebc-9c14-c013560d0b72",
   "metadata": {},
   "outputs": [
    {
     "data": {
      "text/plain": [
       "True"
      ]
     },
     "execution_count": 124,
     "metadata": {},
     "output_type": "execute_result"
    }
   ],
   "source": [
    "#q4\n",
    "'blue' in colors"
   ]
  },
  {
   "cell_type": "code",
   "execution_count": 125,
   "id": "fce97124-9ffc-48ea-a880-d18f1ed83695",
   "metadata": {},
   "outputs": [
    {
     "data": {
      "text/plain": [
       "{1, 2, 3, 4, 5}"
      ]
     },
     "execution_count": 125,
     "metadata": {},
     "output_type": "execute_result"
    }
   ],
   "source": [
    "#q5\n",
    "setA =  {1, 2, 3} \n",
    "setB = {3, 4, 5}\n",
    "setA.union(setB)"
   ]
  },
  {
   "cell_type": "code",
   "execution_count": 126,
   "id": "e93ddd32-f913-4d6e-8c83-e72034d2fd3e",
   "metadata": {},
   "outputs": [
    {
     "data": {
      "text/plain": [
       "{3}"
      ]
     },
     "execution_count": 126,
     "metadata": {},
     "output_type": "execute_result"
    }
   ],
   "source": [
    "#Q6\n",
    "setA.intersection(setB)"
   ]
  },
  {
   "cell_type": "code",
   "execution_count": 127,
   "id": "af5a28f7-a438-469c-b9f0-3bd191893e62",
   "metadata": {},
   "outputs": [
    {
     "data": {
      "text/plain": [
       "{1, 2}"
      ]
     },
     "execution_count": 127,
     "metadata": {},
     "output_type": "execute_result"
    }
   ],
   "source": [
    "#q7\n",
    "setA.difference(setB)"
   ]
  },
  {
   "cell_type": "code",
   "execution_count": 128,
   "id": "2d5d1823-d6e3-44ad-b6fb-9d2550a34a45",
   "metadata": {},
   "outputs": [
    {
     "data": {
      "text/plain": [
       "5"
      ]
     },
     "execution_count": 128,
     "metadata": {},
     "output_type": "execute_result"
    }
   ],
   "source": [
    "#q8\n",
    "setC = {1, 2, 3, 4, 5}\n",
    "len(setC)\n"
   ]
  },
  {
   "cell_type": "code",
   "execution_count": 130,
   "id": "418f62d4-6b43-4683-98b5-a767ae75e622",
   "metadata": {},
   "outputs": [
    {
     "name": "stdout",
     "output_type": "stream",
     "text": [
      "True\n",
      "True\n"
     ]
    }
   ],
   "source": [
    "#Q9\n",
    "seta = {1, 2} \n",
    "setb =  {1, 2, 3, 4} \n",
    "print(set(seta).issubset(setb))\n",
    "print(set(setb).issuperset(seta))"
   ]
  },
  {
   "cell_type": "code",
   "execution_count": 131,
   "id": "e1c1a3b8-f2dd-464a-9421-91b356b7b7d2",
   "metadata": {},
   "outputs": [
    {
     "data": {
      "text/plain": [
       "{1, 2, 3, 4}"
      ]
     },
     "execution_count": 131,
     "metadata": {},
     "output_type": "execute_result"
    }
   ],
   "source": [
    "#q10\n",
    "s_list = [1, 2, 2, 3, 4, 4]\n",
    "set(s_list)"
   ]
  }
 ],
 "metadata": {
  "kernelspec": {
   "display_name": "Python 3 (ipykernel)",
   "language": "python",
   "name": "python3"
  },
  "language_info": {
   "codemirror_mode": {
    "name": "ipython",
    "version": 3
   },
   "file_extension": ".py",
   "mimetype": "text/x-python",
   "name": "python",
   "nbconvert_exporter": "python",
   "pygments_lexer": "ipython3",
   "version": "3.12.4"
  }
 },
 "nbformat": 4,
 "nbformat_minor": 5
}
